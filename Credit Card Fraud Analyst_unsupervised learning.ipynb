{
 "cells": [
  {
   "cell_type": "code",
   "execution_count": 1,
   "metadata": {},
   "outputs": [],
   "source": [
    "import pandas as pd\n",
    "import numpy as np\n",
    "import seaborn as sns\n",
    "import matplotlib.pyplot as plt\n",
    "\n",
    "from sklearn.preprocessing import StandardScaler\n",
    "from sklearn.ensemble import IsolationForest\n",
    "\n",
    "\n",
    "import warnings\n",
    "warnings.simplefilter(\"ignore\")"
   ]
  },
  {
   "cell_type": "markdown",
   "metadata": {},
   "source": [
    "# The goal of this project is to \n",
    "With the credit card transaction data and individual profile,\n",
    "- Report the card users who go above their monthly limit on a daily basis\n",
    "- Look for transaction with fraud possibility for future investigating "
   ]
  },
  {
   "cell_type": "markdown",
   "metadata": {},
   "source": [
    "# Upload data"
   ]
  },
  {
   "cell_type": "code",
   "execution_count": 2,
   "metadata": {},
   "outputs": [
    {
     "name": "stdout",
     "output_type": "stream",
     "text": [
      "(984, 5)\n"
     ]
    },
    {
     "data": {
      "text/html": [
       "<div>\n",
       "<style scoped>\n",
       "    .dataframe tbody tr th:only-of-type {\n",
       "        vertical-align: middle;\n",
       "    }\n",
       "\n",
       "    .dataframe tbody tr th {\n",
       "        vertical-align: top;\n",
       "    }\n",
       "\n",
       "    .dataframe thead th {\n",
       "        text-align: right;\n",
       "    }\n",
       "</style>\n",
       "<table border=\"1\" class=\"dataframe\">\n",
       "  <thead>\n",
       "    <tr style=\"text-align: right;\">\n",
       "      <th></th>\n",
       "      <th>credit_card</th>\n",
       "      <th>city</th>\n",
       "      <th>state</th>\n",
       "      <th>zipcode</th>\n",
       "      <th>credit_card_limit</th>\n",
       "    </tr>\n",
       "  </thead>\n",
       "  <tbody>\n",
       "    <tr>\n",
       "      <th>0</th>\n",
       "      <td>1280981422329509</td>\n",
       "      <td>Dallas</td>\n",
       "      <td>PA</td>\n",
       "      <td>18612</td>\n",
       "      <td>6000</td>\n",
       "    </tr>\n",
       "    <tr>\n",
       "      <th>1</th>\n",
       "      <td>9737219864179988</td>\n",
       "      <td>Houston</td>\n",
       "      <td>PA</td>\n",
       "      <td>15342</td>\n",
       "      <td>16000</td>\n",
       "    </tr>\n",
       "    <tr>\n",
       "      <th>2</th>\n",
       "      <td>4749889059323202</td>\n",
       "      <td>Auburn</td>\n",
       "      <td>MA</td>\n",
       "      <td>1501</td>\n",
       "      <td>14000</td>\n",
       "    </tr>\n",
       "  </tbody>\n",
       "</table>\n",
       "</div>"
      ],
      "text/plain": [
       "        credit_card     city state  zipcode  credit_card_limit\n",
       "0  1280981422329509   Dallas    PA    18612               6000\n",
       "1  9737219864179988  Houston    PA    15342              16000\n",
       "2  4749889059323202   Auburn    MA     1501              14000"
      ]
     },
     "execution_count": 2,
     "metadata": {},
     "output_type": "execute_result"
    }
   ],
   "source": [
    "customer = pd.read_csv(\"cc_info.csv\")\n",
    "print(customer.shape)\n",
    "customer.head(3)"
   ]
  },
  {
   "cell_type": "code",
   "execution_count": 3,
   "metadata": {},
   "outputs": [
    {
     "name": "stdout",
     "output_type": "stream",
     "text": [
      "<class 'pandas.core.frame.DataFrame'>\n",
      "RangeIndex: 984 entries, 0 to 983\n",
      "Data columns (total 5 columns):\n",
      "credit_card          984 non-null int64\n",
      "city                 984 non-null object\n",
      "state                984 non-null object\n",
      "zipcode              984 non-null int64\n",
      "credit_card_limit    984 non-null int64\n",
      "dtypes: int64(3), object(2)\n",
      "memory usage: 38.5+ KB\n"
     ]
    }
   ],
   "source": [
    "customer.info()"
   ]
  },
  {
   "cell_type": "code",
   "execution_count": 4,
   "metadata": {},
   "outputs": [
    {
     "name": "stdout",
     "output_type": "stream",
     "text": [
      "(294588, 5)\n"
     ]
    },
    {
     "data": {
      "text/html": [
       "<div>\n",
       "<style scoped>\n",
       "    .dataframe tbody tr th:only-of-type {\n",
       "        vertical-align: middle;\n",
       "    }\n",
       "\n",
       "    .dataframe tbody tr th {\n",
       "        vertical-align: top;\n",
       "    }\n",
       "\n",
       "    .dataframe thead th {\n",
       "        text-align: right;\n",
       "    }\n",
       "</style>\n",
       "<table border=\"1\" class=\"dataframe\">\n",
       "  <thead>\n",
       "    <tr style=\"text-align: right;\">\n",
       "      <th></th>\n",
       "      <th>credit_card</th>\n",
       "      <th>date</th>\n",
       "      <th>transaction_dollar_amount</th>\n",
       "      <th>Long</th>\n",
       "      <th>Lat</th>\n",
       "    </tr>\n",
       "  </thead>\n",
       "  <tbody>\n",
       "    <tr>\n",
       "      <th>0</th>\n",
       "      <td>1003715054175576</td>\n",
       "      <td>2015-09-11 00:32:40</td>\n",
       "      <td>43.78</td>\n",
       "      <td>-80.174132</td>\n",
       "      <td>40.267370</td>\n",
       "    </tr>\n",
       "    <tr>\n",
       "      <th>1</th>\n",
       "      <td>1003715054175576</td>\n",
       "      <td>2015-10-24 22:23:08</td>\n",
       "      <td>103.15</td>\n",
       "      <td>-80.194240</td>\n",
       "      <td>40.180114</td>\n",
       "    </tr>\n",
       "    <tr>\n",
       "      <th>2</th>\n",
       "      <td>1003715054175576</td>\n",
       "      <td>2015-10-26 18:19:36</td>\n",
       "      <td>48.55</td>\n",
       "      <td>-80.211033</td>\n",
       "      <td>40.313004</td>\n",
       "    </tr>\n",
       "  </tbody>\n",
       "</table>\n",
       "</div>"
      ],
      "text/plain": [
       "        credit_card                date  transaction_dollar_amount       Long  \\\n",
       "0  1003715054175576 2015-09-11 00:32:40                      43.78 -80.174132   \n",
       "1  1003715054175576 2015-10-24 22:23:08                     103.15 -80.194240   \n",
       "2  1003715054175576 2015-10-26 18:19:36                      48.55 -80.211033   \n",
       "\n",
       "         Lat  \n",
       "0  40.267370  \n",
       "1  40.180114  \n",
       "2  40.313004  "
      ]
     },
     "execution_count": 4,
     "metadata": {},
     "output_type": "execute_result"
    }
   ],
   "source": [
    "trans = pd.read_csv(\"transactions.csv\", parse_dates=['date'])\n",
    "print(trans.shape)\n",
    "trans.head(3)"
   ]
  },
  {
   "cell_type": "code",
   "execution_count": 5,
   "metadata": {},
   "outputs": [
    {
     "name": "stdout",
     "output_type": "stream",
     "text": [
      "<class 'pandas.core.frame.DataFrame'>\n",
      "RangeIndex: 294588 entries, 0 to 294587\n",
      "Data columns (total 5 columns):\n",
      "credit_card                  294588 non-null int64\n",
      "date                         294588 non-null datetime64[ns]\n",
      "transaction_dollar_amount    294588 non-null float64\n",
      "Long                         294588 non-null float64\n",
      "Lat                          294588 non-null float64\n",
      "dtypes: datetime64[ns](1), float64(3), int64(1)\n",
      "memory usage: 11.2 MB\n"
     ]
    }
   ],
   "source": [
    "trans.info()"
   ]
  },
  {
   "cell_type": "markdown",
   "metadata": {},
   "source": [
    "- No missing value issue, great!"
   ]
  },
  {
   "cell_type": "markdown",
   "metadata": {},
   "source": [
    "# Data processing"
   ]
  },
  {
   "cell_type": "code",
   "execution_count": 6,
   "metadata": {},
   "outputs": [
    {
     "data": {
      "text/html": [
       "<div>\n",
       "<style scoped>\n",
       "    .dataframe tbody tr th:only-of-type {\n",
       "        vertical-align: middle;\n",
       "    }\n",
       "\n",
       "    .dataframe tbody tr th {\n",
       "        vertical-align: top;\n",
       "    }\n",
       "\n",
       "    .dataframe thead th {\n",
       "        text-align: right;\n",
       "    }\n",
       "</style>\n",
       "<table border=\"1\" class=\"dataframe\">\n",
       "  <thead>\n",
       "    <tr style=\"text-align: right;\">\n",
       "      <th></th>\n",
       "      <th>credit_card</th>\n",
       "      <th>date</th>\n",
       "      <th>transaction_dollar_amount</th>\n",
       "      <th>Long</th>\n",
       "      <th>Lat</th>\n",
       "      <th>month</th>\n",
       "      <th>day</th>\n",
       "      <th>weekday</th>\n",
       "      <th>hour</th>\n",
       "      <th>minute</th>\n",
       "      <th>cum_sum</th>\n",
       "    </tr>\n",
       "  </thead>\n",
       "  <tbody>\n",
       "    <tr>\n",
       "      <th>0</th>\n",
       "      <td>1003715054175576</td>\n",
       "      <td>2015-07-31 20:03:05</td>\n",
       "      <td>45.52</td>\n",
       "      <td>-80.186336</td>\n",
       "      <td>40.168399</td>\n",
       "      <td>7</td>\n",
       "      <td>31</td>\n",
       "      <td>4</td>\n",
       "      <td>20</td>\n",
       "      <td>3</td>\n",
       "      <td>45.52</td>\n",
       "    </tr>\n",
       "    <tr>\n",
       "      <th>1</th>\n",
       "      <td>1003715054175576</td>\n",
       "      <td>2015-07-31 20:25:28</td>\n",
       "      <td>96.10</td>\n",
       "      <td>-80.156132</td>\n",
       "      <td>40.222907</td>\n",
       "      <td>7</td>\n",
       "      <td>31</td>\n",
       "      <td>4</td>\n",
       "      <td>20</td>\n",
       "      <td>25</td>\n",
       "      <td>141.62</td>\n",
       "    </tr>\n",
       "    <tr>\n",
       "      <th>2</th>\n",
       "      <td>1003715054175576</td>\n",
       "      <td>2015-07-31 23:09:32</td>\n",
       "      <td>20.94</td>\n",
       "      <td>-80.262219</td>\n",
       "      <td>40.242532</td>\n",
       "      <td>7</td>\n",
       "      <td>31</td>\n",
       "      <td>4</td>\n",
       "      <td>23</td>\n",
       "      <td>9</td>\n",
       "      <td>162.56</td>\n",
       "    </tr>\n",
       "    <tr>\n",
       "      <th>3</th>\n",
       "      <td>1003715054175576</td>\n",
       "      <td>2015-08-01 10:48:03</td>\n",
       "      <td>51.27</td>\n",
       "      <td>-80.176899</td>\n",
       "      <td>40.313324</td>\n",
       "      <td>8</td>\n",
       "      <td>1</td>\n",
       "      <td>5</td>\n",
       "      <td>10</td>\n",
       "      <td>48</td>\n",
       "      <td>51.27</td>\n",
       "    </tr>\n",
       "    <tr>\n",
       "      <th>4</th>\n",
       "      <td>1003715054175576</td>\n",
       "      <td>2015-08-01 17:43:43</td>\n",
       "      <td>127.99</td>\n",
       "      <td>-80.226671</td>\n",
       "      <td>40.295995</td>\n",
       "      <td>8</td>\n",
       "      <td>1</td>\n",
       "      <td>5</td>\n",
       "      <td>17</td>\n",
       "      <td>43</td>\n",
       "      <td>179.26</td>\n",
       "    </tr>\n",
       "  </tbody>\n",
       "</table>\n",
       "</div>"
      ],
      "text/plain": [
       "        credit_card                date  transaction_dollar_amount       Long  \\\n",
       "0  1003715054175576 2015-07-31 20:03:05                      45.52 -80.186336   \n",
       "1  1003715054175576 2015-07-31 20:25:28                      96.10 -80.156132   \n",
       "2  1003715054175576 2015-07-31 23:09:32                      20.94 -80.262219   \n",
       "3  1003715054175576 2015-08-01 10:48:03                      51.27 -80.176899   \n",
       "4  1003715054175576 2015-08-01 17:43:43                     127.99 -80.226671   \n",
       "\n",
       "         Lat  month  day  weekday  hour  minute  cum_sum  \n",
       "0  40.168399      7   31        4    20       3    45.52  \n",
       "1  40.222907      7   31        4    20      25   141.62  \n",
       "2  40.242532      7   31        4    23       9   162.56  \n",
       "3  40.313324      8    1        5    10      48    51.27  \n",
       "4  40.295995      8    1        5    17      43   179.26  "
      ]
     },
     "execution_count": 6,
     "metadata": {},
     "output_type": "execute_result"
    }
   ],
   "source": [
    "trans['month'] = trans['date'].apply(lambda x: x.month)\n",
    "trans['day'] = trans['date'].apply(lambda x: x.day)\n",
    "trans['weekday'] = trans['date'].apply(lambda x: x.dayofweek)\n",
    "trans['hour'] = trans['date'].apply(lambda x: x.hour)\n",
    "trans['minute'] = trans['date'].apply(lambda x: x.minute)\n",
    "trans.sort_values([\"credit_card\", \"date\"], inplace = True)\n",
    "trans.reset_index(inplace = True, drop = True)\n",
    "trans[\"cum_sum\"] = trans.groupby([\"credit_card\", \"month\"])[\"transaction_dollar_amount\"].transform(\"cumsum\")\n",
    "trans.head()"
   ]
  },
  {
   "cell_type": "code",
   "execution_count": 7,
   "metadata": {},
   "outputs": [
    {
     "data": {
      "text/html": [
       "<div>\n",
       "<style scoped>\n",
       "    .dataframe tbody tr th:only-of-type {\n",
       "        vertical-align: middle;\n",
       "    }\n",
       "\n",
       "    .dataframe tbody tr th {\n",
       "        vertical-align: top;\n",
       "    }\n",
       "\n",
       "    .dataframe thead th {\n",
       "        text-align: right;\n",
       "    }\n",
       "</style>\n",
       "<table border=\"1\" class=\"dataframe\">\n",
       "  <thead>\n",
       "    <tr style=\"text-align: right;\">\n",
       "      <th></th>\n",
       "      <th>credit_card</th>\n",
       "      <th>date</th>\n",
       "      <th>transaction_dollar_amount</th>\n",
       "      <th>Long</th>\n",
       "      <th>Lat</th>\n",
       "      <th>month</th>\n",
       "      <th>day</th>\n",
       "      <th>weekday</th>\n",
       "      <th>hour</th>\n",
       "      <th>minute</th>\n",
       "      <th>cum_sum</th>\n",
       "      <th>city</th>\n",
       "      <th>state</th>\n",
       "      <th>zipcode</th>\n",
       "      <th>credit_card_limit</th>\n",
       "    </tr>\n",
       "  </thead>\n",
       "  <tbody>\n",
       "    <tr>\n",
       "      <th>0</th>\n",
       "      <td>1003715054175576</td>\n",
       "      <td>2015-07-31 20:03:05</td>\n",
       "      <td>45.52</td>\n",
       "      <td>-80.186336</td>\n",
       "      <td>40.168399</td>\n",
       "      <td>7</td>\n",
       "      <td>31</td>\n",
       "      <td>4</td>\n",
       "      <td>20</td>\n",
       "      <td>3</td>\n",
       "      <td>45.52</td>\n",
       "      <td>Houston</td>\n",
       "      <td>PA</td>\n",
       "      <td>15342</td>\n",
       "      <td>20000</td>\n",
       "    </tr>\n",
       "    <tr>\n",
       "      <th>1</th>\n",
       "      <td>1003715054175576</td>\n",
       "      <td>2015-07-31 20:25:28</td>\n",
       "      <td>96.10</td>\n",
       "      <td>-80.156132</td>\n",
       "      <td>40.222907</td>\n",
       "      <td>7</td>\n",
       "      <td>31</td>\n",
       "      <td>4</td>\n",
       "      <td>20</td>\n",
       "      <td>25</td>\n",
       "      <td>141.62</td>\n",
       "      <td>Houston</td>\n",
       "      <td>PA</td>\n",
       "      <td>15342</td>\n",
       "      <td>20000</td>\n",
       "    </tr>\n",
       "    <tr>\n",
       "      <th>2</th>\n",
       "      <td>1003715054175576</td>\n",
       "      <td>2015-07-31 23:09:32</td>\n",
       "      <td>20.94</td>\n",
       "      <td>-80.262219</td>\n",
       "      <td>40.242532</td>\n",
       "      <td>7</td>\n",
       "      <td>31</td>\n",
       "      <td>4</td>\n",
       "      <td>23</td>\n",
       "      <td>9</td>\n",
       "      <td>162.56</td>\n",
       "      <td>Houston</td>\n",
       "      <td>PA</td>\n",
       "      <td>15342</td>\n",
       "      <td>20000</td>\n",
       "    </tr>\n",
       "  </tbody>\n",
       "</table>\n",
       "</div>"
      ],
      "text/plain": [
       "        credit_card                date  transaction_dollar_amount       Long  \\\n",
       "0  1003715054175576 2015-07-31 20:03:05                      45.52 -80.186336   \n",
       "1  1003715054175576 2015-07-31 20:25:28                      96.10 -80.156132   \n",
       "2  1003715054175576 2015-07-31 23:09:32                      20.94 -80.262219   \n",
       "\n",
       "         Lat  month  day  weekday  hour  minute  cum_sum     city state  \\\n",
       "0  40.168399      7   31        4    20       3    45.52  Houston    PA   \n",
       "1  40.222907      7   31        4    20      25   141.62  Houston    PA   \n",
       "2  40.242532      7   31        4    23       9   162.56  Houston    PA   \n",
       "\n",
       "   zipcode  credit_card_limit  \n",
       "0    15342              20000  \n",
       "1    15342              20000  \n",
       "2    15342              20000  "
      ]
     },
     "execution_count": 7,
     "metadata": {},
     "output_type": "execute_result"
    }
   ],
   "source": [
    "merged = pd.merge(trans, customer, on = \"credit_card\")\n",
    "merged.head(3)"
   ]
  },
  {
   "cell_type": "markdown",
   "metadata": {},
   "source": [
    "# Q1: Identify users that never went above monthly credit limit"
   ]
  },
  {
   "cell_type": "code",
   "execution_count": 8,
   "metadata": {},
   "outputs": [
    {
     "name": "stdout",
     "output_type": "stream",
     "text": [
      "862\n"
     ]
    },
    {
     "data": {
      "text/html": [
       "<div>\n",
       "<style scoped>\n",
       "    .dataframe tbody tr th:only-of-type {\n",
       "        vertical-align: middle;\n",
       "    }\n",
       "\n",
       "    .dataframe tbody tr th {\n",
       "        vertical-align: top;\n",
       "    }\n",
       "\n",
       "    .dataframe thead th {\n",
       "        text-align: right;\n",
       "    }\n",
       "</style>\n",
       "<table border=\"1\" class=\"dataframe\">\n",
       "  <thead>\n",
       "    <tr style=\"text-align: right;\">\n",
       "      <th></th>\n",
       "      <th>credit_card</th>\n",
       "      <th>above_limit_times</th>\n",
       "    </tr>\n",
       "  </thead>\n",
       "  <tbody>\n",
       "    <tr>\n",
       "      <th>0</th>\n",
       "      <td>1003715054175576</td>\n",
       "      <td>0.0</td>\n",
       "    </tr>\n",
       "    <tr>\n",
       "      <th>1</th>\n",
       "      <td>1013870087888817</td>\n",
       "      <td>0.0</td>\n",
       "    </tr>\n",
       "    <tr>\n",
       "      <th>2</th>\n",
       "      <td>1023820165155391</td>\n",
       "      <td>0.0</td>\n",
       "    </tr>\n",
       "    <tr>\n",
       "      <th>3</th>\n",
       "      <td>1073931538936472</td>\n",
       "      <td>0.0</td>\n",
       "    </tr>\n",
       "    <tr>\n",
       "      <th>4</th>\n",
       "      <td>1077622576192810</td>\n",
       "      <td>0.0</td>\n",
       "    </tr>\n",
       "  </tbody>\n",
       "</table>\n",
       "</div>"
      ],
      "text/plain": [
       "        credit_card  above_limit_times\n",
       "0  1003715054175576                0.0\n",
       "1  1013870087888817                0.0\n",
       "2  1023820165155391                0.0\n",
       "3  1073931538936472                0.0\n",
       "4  1077622576192810                0.0"
      ]
     },
     "execution_count": 8,
     "metadata": {},
     "output_type": "execute_result"
    }
   ],
   "source": [
    "merged[\"above_limit\"] = merged[\"cum_sum\"] > merged[\"credit_card_limit\"]\n",
    "above_limit_times = pd.DataFrame(merged.groupby(\"credit_card\")[\"above_limit\"].sum()).reset_index()\n",
    "above_limit_times.columns = [\"credit_card\",\"above_limit_times\"]\n",
    "zero_above_limit = above_limit_times[above_limit_times[\"above_limit_times\"] == 0]\n",
    "print(len(zero_above_limit))\n",
    "zero_above_limit.head()"
   ]
  },
  {
   "cell_type": "markdown",
   "metadata": {},
   "source": [
    "- So, there are 862 credit cards in total that never exceed their credit limit."
   ]
  },
  {
   "cell_type": "markdown",
   "metadata": {},
   "source": [
    "# Q2: Build a function returns users who went above monthly limit each day"
   ]
  },
  {
   "cell_type": "code",
   "execution_count": 9,
   "metadata": {},
   "outputs": [],
   "source": [
    "def daily_report(month, day):\n",
    "    over_limit = merged[merged[\"above_limit\"] == True]\n",
    "    query_result = over_limit[(over_limit[\"month\"] == month) & (over_limit[\"day\"] == day)]\n",
    "    query_result = query_result.drop_duplicates(\"credit_card\", keep = \"last\")\n",
    "    return query_result"
   ]
  },
  {
   "cell_type": "code",
   "execution_count": 10,
   "metadata": {},
   "outputs": [
    {
     "data": {
      "text/html": [
       "<div>\n",
       "<style scoped>\n",
       "    .dataframe tbody tr th:only-of-type {\n",
       "        vertical-align: middle;\n",
       "    }\n",
       "\n",
       "    .dataframe tbody tr th {\n",
       "        vertical-align: top;\n",
       "    }\n",
       "\n",
       "    .dataframe thead th {\n",
       "        text-align: right;\n",
       "    }\n",
       "</style>\n",
       "<table border=\"1\" class=\"dataframe\">\n",
       "  <thead>\n",
       "    <tr style=\"text-align: right;\">\n",
       "      <th></th>\n",
       "      <th>credit_card</th>\n",
       "      <th>date</th>\n",
       "      <th>transaction_dollar_amount</th>\n",
       "      <th>Long</th>\n",
       "      <th>Lat</th>\n",
       "      <th>month</th>\n",
       "      <th>day</th>\n",
       "      <th>weekday</th>\n",
       "      <th>hour</th>\n",
       "      <th>minute</th>\n",
       "      <th>cum_sum</th>\n",
       "      <th>city</th>\n",
       "      <th>state</th>\n",
       "      <th>zipcode</th>\n",
       "      <th>credit_card_limit</th>\n",
       "      <th>above_limit</th>\n",
       "    </tr>\n",
       "  </thead>\n",
       "  <tbody>\n",
       "    <tr>\n",
       "      <th>58136</th>\n",
       "      <td>2850146878241916</td>\n",
       "      <td>2015-08-16 23:05:17</td>\n",
       "      <td>7.42</td>\n",
       "      <td>-72.103198</td>\n",
       "      <td>43.109806</td>\n",
       "      <td>8</td>\n",
       "      <td>16</td>\n",
       "      <td>6</td>\n",
       "      <td>23</td>\n",
       "      <td>5</td>\n",
       "      <td>4012.81</td>\n",
       "      <td>Washington</td>\n",
       "      <td>NH</td>\n",
       "      <td>3280</td>\n",
       "      <td>4000</td>\n",
       "      <td>True</td>\n",
       "    </tr>\n",
       "    <tr>\n",
       "      <th>117129</th>\n",
       "      <td>4462290711836916</td>\n",
       "      <td>2015-08-16 02:35:10</td>\n",
       "      <td>130.76</td>\n",
       "      <td>-73.988243</td>\n",
       "      <td>40.727111</td>\n",
       "      <td>8</td>\n",
       "      <td>16</td>\n",
       "      <td>6</td>\n",
       "      <td>2</td>\n",
       "      <td>35</td>\n",
       "      <td>2846.88</td>\n",
       "      <td>New York</td>\n",
       "      <td>NY</td>\n",
       "      <td>10001</td>\n",
       "      <td>2000</td>\n",
       "      <td>True</td>\n",
       "    </tr>\n",
       "    <tr>\n",
       "      <th>230991</th>\n",
       "      <td>7850942767136368</td>\n",
       "      <td>2015-08-16 19:54:34</td>\n",
       "      <td>65.01</td>\n",
       "      <td>-72.140223</td>\n",
       "      <td>43.182095</td>\n",
       "      <td>8</td>\n",
       "      <td>16</td>\n",
       "      <td>6</td>\n",
       "      <td>19</td>\n",
       "      <td>54</td>\n",
       "      <td>4061.39</td>\n",
       "      <td>Washington</td>\n",
       "      <td>NH</td>\n",
       "      <td>3280</td>\n",
       "      <td>4000</td>\n",
       "      <td>True</td>\n",
       "    </tr>\n",
       "    <tr>\n",
       "      <th>252010</th>\n",
       "      <td>8522875529951473</td>\n",
       "      <td>2015-08-16 22:44:48</td>\n",
       "      <td>19.73</td>\n",
       "      <td>-72.058977</td>\n",
       "      <td>43.238693</td>\n",
       "      <td>8</td>\n",
       "      <td>16</td>\n",
       "      <td>6</td>\n",
       "      <td>22</td>\n",
       "      <td>44</td>\n",
       "      <td>5518.88</td>\n",
       "      <td>Washington</td>\n",
       "      <td>NH</td>\n",
       "      <td>3280</td>\n",
       "      <td>5000</td>\n",
       "      <td>True</td>\n",
       "    </tr>\n",
       "  </tbody>\n",
       "</table>\n",
       "</div>"
      ],
      "text/plain": [
       "             credit_card                date  transaction_dollar_amount  \\\n",
       "58136   2850146878241916 2015-08-16 23:05:17                       7.42   \n",
       "117129  4462290711836916 2015-08-16 02:35:10                     130.76   \n",
       "230991  7850942767136368 2015-08-16 19:54:34                      65.01   \n",
       "252010  8522875529951473 2015-08-16 22:44:48                      19.73   \n",
       "\n",
       "             Long        Lat  month  day  weekday  hour  minute  cum_sum  \\\n",
       "58136  -72.103198  43.109806      8   16        6    23       5  4012.81   \n",
       "117129 -73.988243  40.727111      8   16        6     2      35  2846.88   \n",
       "230991 -72.140223  43.182095      8   16        6    19      54  4061.39   \n",
       "252010 -72.058977  43.238693      8   16        6    22      44  5518.88   \n",
       "\n",
       "              city state  zipcode  credit_card_limit  above_limit  \n",
       "58136   Washington    NH     3280               4000         True  \n",
       "117129    New York    NY    10001               2000         True  \n",
       "230991  Washington    NH     3280               4000         True  \n",
       "252010  Washington    NH     3280               5000         True  "
      ]
     },
     "execution_count": 10,
     "metadata": {},
     "output_type": "execute_result"
    }
   ],
   "source": [
    "daily_report(month = 8, day = 16)"
   ]
  },
  {
   "cell_type": "markdown",
   "metadata": {},
   "source": [
    "- The daily_report(month, day) will reture the information about the ones that go above its limit on that day"
   ]
  },
  {
   "cell_type": "markdown",
   "metadata": {},
   "source": [
    "# Search for unusual transactions that need to be investigated further"
   ]
  },
  {
   "cell_type": "code",
   "execution_count": 11,
   "metadata": {},
   "outputs": [
    {
     "data": {
      "text/html": [
       "<div>\n",
       "<style scoped>\n",
       "    .dataframe tbody tr th:only-of-type {\n",
       "        vertical-align: middle;\n",
       "    }\n",
       "\n",
       "    .dataframe tbody tr th {\n",
       "        vertical-align: top;\n",
       "    }\n",
       "\n",
       "    .dataframe thead th {\n",
       "        text-align: right;\n",
       "    }\n",
       "</style>\n",
       "<table border=\"1\" class=\"dataframe\">\n",
       "  <thead>\n",
       "    <tr style=\"text-align: right;\">\n",
       "      <th></th>\n",
       "      <th>credit_card</th>\n",
       "      <th>date</th>\n",
       "      <th>transaction_dollar_amount</th>\n",
       "      <th>Long</th>\n",
       "      <th>Lat</th>\n",
       "      <th>month</th>\n",
       "      <th>day</th>\n",
       "      <th>weekday</th>\n",
       "      <th>hour</th>\n",
       "      <th>minute</th>\n",
       "      <th>cum_sum</th>\n",
       "      <th>city</th>\n",
       "      <th>state</th>\n",
       "      <th>zipcode</th>\n",
       "      <th>credit_card_limit</th>\n",
       "      <th>above_limit</th>\n",
       "    </tr>\n",
       "  </thead>\n",
       "  <tbody>\n",
       "    <tr>\n",
       "      <th>0</th>\n",
       "      <td>1003715054175576</td>\n",
       "      <td>2015-07-31 20:03:05</td>\n",
       "      <td>45.52</td>\n",
       "      <td>-80.186336</td>\n",
       "      <td>40.168399</td>\n",
       "      <td>7</td>\n",
       "      <td>31</td>\n",
       "      <td>4</td>\n",
       "      <td>20</td>\n",
       "      <td>3</td>\n",
       "      <td>45.52</td>\n",
       "      <td>Houston</td>\n",
       "      <td>PA</td>\n",
       "      <td>15342</td>\n",
       "      <td>20000</td>\n",
       "      <td>False</td>\n",
       "    </tr>\n",
       "    <tr>\n",
       "      <th>1</th>\n",
       "      <td>1003715054175576</td>\n",
       "      <td>2015-07-31 20:25:28</td>\n",
       "      <td>96.10</td>\n",
       "      <td>-80.156132</td>\n",
       "      <td>40.222907</td>\n",
       "      <td>7</td>\n",
       "      <td>31</td>\n",
       "      <td>4</td>\n",
       "      <td>20</td>\n",
       "      <td>25</td>\n",
       "      <td>141.62</td>\n",
       "      <td>Houston</td>\n",
       "      <td>PA</td>\n",
       "      <td>15342</td>\n",
       "      <td>20000</td>\n",
       "      <td>False</td>\n",
       "    </tr>\n",
       "  </tbody>\n",
       "</table>\n",
       "</div>"
      ],
      "text/plain": [
       "        credit_card                date  transaction_dollar_amount       Long  \\\n",
       "0  1003715054175576 2015-07-31 20:03:05                      45.52 -80.186336   \n",
       "1  1003715054175576 2015-07-31 20:25:28                      96.10 -80.156132   \n",
       "\n",
       "         Lat  month  day  weekday  hour  minute  cum_sum     city state  \\\n",
       "0  40.168399      7   31        4    20       3    45.52  Houston    PA   \n",
       "1  40.222907      7   31        4    20      25   141.62  Houston    PA   \n",
       "\n",
       "   zipcode  credit_card_limit  above_limit  \n",
       "0    15342              20000        False  \n",
       "1    15342              20000        False  "
      ]
     },
     "execution_count": 11,
     "metadata": {},
     "output_type": "execute_result"
    }
   ],
   "source": [
    "merged.head(2)"
   ]
  },
  {
   "cell_type": "markdown",
   "metadata": {},
   "source": [
    "The dataset have three aspects of information:\n",
    "- Transaction time\n",
    "- Transaction amount\n",
    "- Transaction location\n",
    "\n",
    "There are two ways to define an unusual transaction:\n",
    "- A small percentage in the dataset\n",
    "- Different from the majority\n",
    "\n",
    "Therefore, I need to compute the deviation from its normal situation of thees information:\n",
    "- Transaction Time\n",
    "- Transaction amount; transaction amount to credit limit; transaction amount to remaining credit\n",
    "- Distance to its home address; since there is no home information, I will then compute its distance to the center point of all appeared locations;\n"
   ]
  },
  {
   "cell_type": "markdown",
   "metadata": {},
   "source": [
    "### Feature Engineering"
   ]
  },
  {
   "cell_type": "markdown",
   "metadata": {},
   "source": [
    "##### Time"
   ]
  },
  {
   "cell_type": "code",
   "execution_count": 12,
   "metadata": {},
   "outputs": [],
   "source": [
    "merged[\"time_of_day\"] = merged[\"hour\"] + merged[\"minute\"]/60.0\n",
    "model_data = merged[[\"credit_card\", \"day\", \"weekday\", \"time_of_day\"]]"
   ]
  },
  {
   "cell_type": "markdown",
   "metadata": {},
   "source": [
    "##### Transaction amount"
   ]
  },
  {
   "cell_type": "code",
   "execution_count": 13,
   "metadata": {},
   "outputs": [],
   "source": [
    "# assume there are 32 days in a month to prevent from dividing 0\n",
    "merged[\"remaining_days\"] = 32 - merged[\"day\"]\n",
    "merged[\"remaining_credit\"] = merged[\"credit_card_limit\"] - merged[\"cum_sum\"]\n",
    "\n",
    "model_data[\"trans_to_limit\"] = merged[\"transaction_dollar_amount\"]/merged[\"credit_card_limit\"]\n",
    "model_data[\"trans_to_remaincredit\"] = merged[\"transaction_dollar_amount\"]/merged[\"remaining_credit\"]"
   ]
  },
  {
   "cell_type": "markdown",
   "metadata": {},
   "source": [
    "##### Location"
   ]
  },
  {
   "cell_type": "code",
   "execution_count": 14,
   "metadata": {},
   "outputs": [],
   "source": [
    "center_loc = merged.groupby(\"credit_card\")[\"Long\",\"Lat\"].mean()\n",
    "merged = pd.merge(merged, center_loc, on = \"credit_card\", how = \"left\")\n",
    "model_data[\"distance\"] = np.sqrt((merged[\"Long_x\"] - merged[\"Long_y\"])*(merged[\"Long_x\"] - merged[\"Long_y\"]) + \n",
    "                                  (merged[\"Lat_x\"] - merged[\"Lat_y\"]) * (merged[\"Lat_x\"] - merged[\"Lat_y\"]))"
   ]
  },
  {
   "cell_type": "code",
   "execution_count": 15,
   "metadata": {},
   "outputs": [
    {
     "data": {
      "text/html": [
       "<div>\n",
       "<style scoped>\n",
       "    .dataframe tbody tr th:only-of-type {\n",
       "        vertical-align: middle;\n",
       "    }\n",
       "\n",
       "    .dataframe tbody tr th {\n",
       "        vertical-align: top;\n",
       "    }\n",
       "\n",
       "    .dataframe thead th {\n",
       "        text-align: right;\n",
       "    }\n",
       "</style>\n",
       "<table border=\"1\" class=\"dataframe\">\n",
       "  <thead>\n",
       "    <tr style=\"text-align: right;\">\n",
       "      <th></th>\n",
       "      <th>credit_card</th>\n",
       "      <th>day</th>\n",
       "      <th>weekday</th>\n",
       "      <th>time_of_day</th>\n",
       "      <th>trans_to_limit</th>\n",
       "      <th>trans_to_remaincredit</th>\n",
       "      <th>distance</th>\n",
       "    </tr>\n",
       "  </thead>\n",
       "  <tbody>\n",
       "    <tr>\n",
       "      <th>0</th>\n",
       "      <td>1003715054175576</td>\n",
       "      <td>31</td>\n",
       "      <td>4</td>\n",
       "      <td>20.050000</td>\n",
       "      <td>0.002276</td>\n",
       "      <td>0.002281</td>\n",
       "      <td>2.661676</td>\n",
       "    </tr>\n",
       "    <tr>\n",
       "      <th>1</th>\n",
       "      <td>1003715054175576</td>\n",
       "      <td>31</td>\n",
       "      <td>4</td>\n",
       "      <td>20.416667</td>\n",
       "      <td>0.004805</td>\n",
       "      <td>0.004839</td>\n",
       "      <td>2.644244</td>\n",
       "    </tr>\n",
       "    <tr>\n",
       "      <th>2</th>\n",
       "      <td>1003715054175576</td>\n",
       "      <td>31</td>\n",
       "      <td>4</td>\n",
       "      <td>23.150000</td>\n",
       "      <td>0.001047</td>\n",
       "      <td>0.001056</td>\n",
       "      <td>2.751997</td>\n",
       "    </tr>\n",
       "    <tr>\n",
       "      <th>3</th>\n",
       "      <td>1003715054175576</td>\n",
       "      <td>1</td>\n",
       "      <td>5</td>\n",
       "      <td>10.800000</td>\n",
       "      <td>0.002564</td>\n",
       "      <td>0.002570</td>\n",
       "      <td>2.686681</td>\n",
       "    </tr>\n",
       "    <tr>\n",
       "      <th>4</th>\n",
       "      <td>1003715054175576</td>\n",
       "      <td>1</td>\n",
       "      <td>5</td>\n",
       "      <td>17.716667</td>\n",
       "      <td>0.006399</td>\n",
       "      <td>0.006457</td>\n",
       "      <td>2.730346</td>\n",
       "    </tr>\n",
       "    <tr>\n",
       "      <th>5</th>\n",
       "      <td>1003715054175576</td>\n",
       "      <td>1</td>\n",
       "      <td>5</td>\n",
       "      <td>17.733333</td>\n",
       "      <td>0.004848</td>\n",
       "      <td>0.004916</td>\n",
       "      <td>2.648800</td>\n",
       "    </tr>\n",
       "    <tr>\n",
       "      <th>6</th>\n",
       "      <td>1003715054175576</td>\n",
       "      <td>1</td>\n",
       "      <td>5</td>\n",
       "      <td>19.166667</td>\n",
       "      <td>0.004867</td>\n",
       "      <td>0.004960</td>\n",
       "      <td>2.647119</td>\n",
       "    </tr>\n",
       "    <tr>\n",
       "      <th>7</th>\n",
       "      <td>1003715054175576</td>\n",
       "      <td>2</td>\n",
       "      <td>6</td>\n",
       "      <td>19.650000</td>\n",
       "      <td>0.006572</td>\n",
       "      <td>0.006742</td>\n",
       "      <td>2.704566</td>\n",
       "    </tr>\n",
       "    <tr>\n",
       "      <th>8</th>\n",
       "      <td>1003715054175576</td>\n",
       "      <td>2</td>\n",
       "      <td>6</td>\n",
       "      <td>22.666667</td>\n",
       "      <td>0.004287</td>\n",
       "      <td>0.004417</td>\n",
       "      <td>2.737824</td>\n",
       "    </tr>\n",
       "    <tr>\n",
       "      <th>9</th>\n",
       "      <td>1003715054175576</td>\n",
       "      <td>3</td>\n",
       "      <td>0</td>\n",
       "      <td>0.450000</td>\n",
       "      <td>0.004033</td>\n",
       "      <td>0.004174</td>\n",
       "      <td>2.724879</td>\n",
       "    </tr>\n",
       "  </tbody>\n",
       "</table>\n",
       "</div>"
      ],
      "text/plain": [
       "        credit_card  day  weekday  time_of_day  trans_to_limit  \\\n",
       "0  1003715054175576   31        4    20.050000        0.002276   \n",
       "1  1003715054175576   31        4    20.416667        0.004805   \n",
       "2  1003715054175576   31        4    23.150000        0.001047   \n",
       "3  1003715054175576    1        5    10.800000        0.002564   \n",
       "4  1003715054175576    1        5    17.716667        0.006399   \n",
       "5  1003715054175576    1        5    17.733333        0.004848   \n",
       "6  1003715054175576    1        5    19.166667        0.004867   \n",
       "7  1003715054175576    2        6    19.650000        0.006572   \n",
       "8  1003715054175576    2        6    22.666667        0.004287   \n",
       "9  1003715054175576    3        0     0.450000        0.004033   \n",
       "\n",
       "   trans_to_remaincredit  distance  \n",
       "0               0.002281  2.661676  \n",
       "1               0.004839  2.644244  \n",
       "2               0.001056  2.751997  \n",
       "3               0.002570  2.686681  \n",
       "4               0.006457  2.730346  \n",
       "5               0.004916  2.648800  \n",
       "6               0.004960  2.647119  \n",
       "7               0.006742  2.704566  \n",
       "8               0.004417  2.737824  \n",
       "9               0.004174  2.724879  "
      ]
     },
     "execution_count": 15,
     "metadata": {},
     "output_type": "execute_result"
    }
   ],
   "source": [
    "model_data.head(10)"
   ]
  },
  {
   "cell_type": "markdown",
   "metadata": {},
   "source": [
    "### Isolation forest model"
   ]
  },
  {
   "cell_type": "markdown",
   "metadata": {},
   "source": [
    "I will use isolation forest model to find the possible fraud transaction\n",
    "- Note that I will not treat all the transaction data as one single sample, because the fraud criterion would be different. eg: for most people, transaction at 2:00am would be unusual, but it is normal for people who work in the night\n",
    "- Therefore I will build a seperate model for different people."
   ]
  },
  {
   "cell_type": "markdown",
   "metadata": {},
   "source": [
    "Only look for possible fraud transaction for account with some threshold transaction times, because small data set is not rubost to indicate fraud\n",
    "- set threshold = 50 in this case"
   ]
  },
  {
   "cell_type": "code",
   "execution_count": 16,
   "metadata": {},
   "outputs": [],
   "source": [
    "trans_threshold = 50"
   ]
  },
  {
   "cell_type": "code",
   "execution_count": 17,
   "metadata": {},
   "outputs": [
    {
     "name": "stdout",
     "output_type": "stream",
     "text": [
      "iteration time is: 300\n",
      "iteration time is: 600\n",
      "iteration time is: 900\n"
     ]
    }
   ],
   "source": [
    "all_card = model_data[\"credit_card\"].unique()\n",
    "all_labeled = pd.DataFrame()\n",
    "ite_num = 0\n",
    "for card in all_card:\n",
    "    indi_trans = model_data[model_data[\"credit_card\"] == card]\n",
    "    ite_num = ite_num + 1\n",
    "    \n",
    "    if len(indi_trans) >= trans_threshold:\n",
    "        if_model = IsolationForest(contamination=0.02, random_state=42)\n",
    "        if_model.fit(indi_trans)\n",
    "        label = if_model.predict(indi_trans)\n",
    "        labeled = pd.DataFrame(label)\n",
    "        all_labeled = pd.concat([all_labeled, labeled], axis = 0)\n",
    "    \n",
    "    if ite_num%300 == 0 :\n",
    "        print (\"iteration time is: \" + str(ite_num))"
   ]
  },
  {
   "cell_type": "code",
   "execution_count": 18,
   "metadata": {},
   "outputs": [
    {
     "data": {
      "text/plain": [
       "(292523, 1)"
      ]
     },
     "execution_count": 18,
     "metadata": {},
     "output_type": "execute_result"
    }
   ],
   "source": [
    "all_labeled.reset_index(inplace = True, drop = True)\n",
    "all_labeled.shape"
   ]
  },
  {
   "cell_type": "code",
   "execution_count": 19,
   "metadata": {},
   "outputs": [
    {
     "data": {
      "text/plain": [
       "(292523, 7)"
      ]
     },
     "execution_count": 19,
     "metadata": {},
     "output_type": "execute_result"
    }
   ],
   "source": [
    "trans_acount = model_data.groupby(\"credit_card\")[\"day\"].transform(\"count\").reset_index()\n",
    "over_thres_data = model_data[trans_acount[\"day\"] >= trans_threshold]\n",
    "over_thres_data.reset_index(inplace = True, drop = True)\n",
    "over_thres_data.shape"
   ]
  },
  {
   "cell_type": "markdown",
   "metadata": {},
   "source": [
    "The number of rows match! Great!"
   ]
  },
  {
   "cell_type": "code",
   "execution_count": 20,
   "metadata": {},
   "outputs": [],
   "source": [
    "over_thres_data = pd.concat([over_thres_data,all_labeled], axis = 1)\n",
    "over_thres_data.rename(columns = {0:\"label\"}, inplace = True)\n",
    "over_thres_data[\"fraud\"] = np.abs((over_thres_data[\"label\"] - 1)*-0.5)\n",
    "over_thres_data.drop(\"label\", inplace = True, axis = 1)"
   ]
  },
  {
   "cell_type": "code",
   "execution_count": 21,
   "metadata": {},
   "outputs": [
    {
     "data": {
      "text/html": [
       "<div>\n",
       "<style scoped>\n",
       "    .dataframe tbody tr th:only-of-type {\n",
       "        vertical-align: middle;\n",
       "    }\n",
       "\n",
       "    .dataframe tbody tr th {\n",
       "        vertical-align: top;\n",
       "    }\n",
       "\n",
       "    .dataframe thead th {\n",
       "        text-align: right;\n",
       "    }\n",
       "</style>\n",
       "<table border=\"1\" class=\"dataframe\">\n",
       "  <thead>\n",
       "    <tr style=\"text-align: right;\">\n",
       "      <th></th>\n",
       "      <th>credit_card</th>\n",
       "      <th>day</th>\n",
       "      <th>weekday</th>\n",
       "      <th>time_of_day</th>\n",
       "      <th>trans_to_limit</th>\n",
       "      <th>trans_to_remaincredit</th>\n",
       "      <th>distance</th>\n",
       "      <th>fraud</th>\n",
       "    </tr>\n",
       "  </thead>\n",
       "  <tbody>\n",
       "    <tr>\n",
       "      <th>0</th>\n",
       "      <td>1.003715e+15</td>\n",
       "      <td>31.0</td>\n",
       "      <td>4.0</td>\n",
       "      <td>20.0</td>\n",
       "      <td>0.0</td>\n",
       "      <td>0.0</td>\n",
       "      <td>2.5</td>\n",
       "      <td>0.0</td>\n",
       "    </tr>\n",
       "    <tr>\n",
       "      <th>1</th>\n",
       "      <td>1.003715e+15</td>\n",
       "      <td>31.0</td>\n",
       "      <td>4.0</td>\n",
       "      <td>20.5</td>\n",
       "      <td>0.5</td>\n",
       "      <td>0.5</td>\n",
       "      <td>2.5</td>\n",
       "      <td>0.0</td>\n",
       "    </tr>\n",
       "    <tr>\n",
       "      <th>2</th>\n",
       "      <td>1.003715e+15</td>\n",
       "      <td>31.0</td>\n",
       "      <td>4.0</td>\n",
       "      <td>23.0</td>\n",
       "      <td>0.0</td>\n",
       "      <td>0.0</td>\n",
       "      <td>3.0</td>\n",
       "      <td>0.0</td>\n",
       "    </tr>\n",
       "    <tr>\n",
       "      <th>3</th>\n",
       "      <td>1.003715e+15</td>\n",
       "      <td>1.0</td>\n",
       "      <td>5.0</td>\n",
       "      <td>11.0</td>\n",
       "      <td>0.5</td>\n",
       "      <td>0.5</td>\n",
       "      <td>2.5</td>\n",
       "      <td>0.0</td>\n",
       "    </tr>\n",
       "    <tr>\n",
       "      <th>4</th>\n",
       "      <td>1.003715e+15</td>\n",
       "      <td>1.0</td>\n",
       "      <td>5.0</td>\n",
       "      <td>17.5</td>\n",
       "      <td>0.5</td>\n",
       "      <td>0.5</td>\n",
       "      <td>2.5</td>\n",
       "      <td>0.0</td>\n",
       "    </tr>\n",
       "  </tbody>\n",
       "</table>\n",
       "</div>"
      ],
      "text/plain": [
       "    credit_card   day  weekday  time_of_day  trans_to_limit  \\\n",
       "0  1.003715e+15  31.0      4.0         20.0             0.0   \n",
       "1  1.003715e+15  31.0      4.0         20.5             0.5   \n",
       "2  1.003715e+15  31.0      4.0         23.0             0.0   \n",
       "3  1.003715e+15   1.0      5.0         11.0             0.5   \n",
       "4  1.003715e+15   1.0      5.0         17.5             0.5   \n",
       "\n",
       "   trans_to_remaincredit  distance  fraud  \n",
       "0                    0.0       2.5    0.0  \n",
       "1                    0.5       2.5    0.0  \n",
       "2                    0.0       3.0    0.0  \n",
       "3                    0.5       2.5    0.0  \n",
       "4                    0.5       2.5    0.0  "
      ]
     },
     "execution_count": 21,
     "metadata": {},
     "output_type": "execute_result"
    }
   ],
   "source": [
    "over_thres_data[\"trans_to_limit\"] = over_thres_data[\"trans_to_limit\"]*100\n",
    "over_thres_data[\"trans_to_remaincredit\"] = over_thres_data[\"trans_to_remaincredit\"]*100\n",
    "over_thres_data = over_thres_data*2\n",
    "over_thres_data = over_thres_data.round()/2.0\n",
    "over_thres_data.head()"
   ]
  },
  {
   "cell_type": "code",
   "execution_count": 22,
   "metadata": {},
   "outputs": [],
   "source": [
    "def fraud_check(credit_card_num):\n",
    "    plot_data = over_thres_data[over_thres_data[\"credit_card\"] == credit_card_num]\n",
    "\n",
    "    fig, ax = plt.subplots(nrows = 1, ncols = 2, figsize=(20, 5))\n",
    "\n",
    "    sns.barplot(x = \"day\", y = \"fraud\",data = plot_data, ax = ax[0])\n",
    "    plt.setp(ax[0].get_xticklabels(), rotation=90)\n",
    "    ax[0].set_title(\"day of a month VS fraud\")\n",
    "\n",
    "\n",
    "    sns.barplot(x = \"weekday\", y = \"fraud\", data = plot_data, ax = ax[1])\n",
    "    plt.setp(ax[1].get_xticklabels(), rotation=90)\n",
    "    ax[1].set_title(\"weekday VS fraud\")\n",
    "    \n",
    "    fig, ax = plt.subplots(nrows = 1, ncols = 2, figsize=(20, 5))\n",
    "\n",
    "    sns.barplot(x = \"time_of_day\", y = \"fraud\", data = plot_data, ax = ax[0])\n",
    "    plt.setp(ax[0].get_xticklabels(), rotation=90)\n",
    "    ax[0].set_title(\"time of a day VS fraud\")\n",
    "    \n",
    "\n",
    "    sns.barplot(x = \"trans_to_limit\", y = \"fraud\", data = plot_data, ax = ax[1])\n",
    "    plt.setp(ax[1].get_xticklabels(), rotation=90)\n",
    "    ax[1].set_title(\"trans to limit VS fraud\")\n",
    "    \n",
    "    fig, ax = plt.subplots(nrows = 1, ncols = 2, figsize=(20, 5))\n",
    "\n",
    "    sns.barplot(x = \"trans_to_remaincredit\", y = \"fraud\", data = plot_data, ax = ax[0])\n",
    "    plt.setp(ax[0].get_xticklabels(), rotation=90)\n",
    "    ax[0].set_title(\"transaction to remaincredit VS fraud\")\n",
    "    \n",
    "\n",
    "    sns.barplot(x = \"distance\", y = \"fraud\", data = plot_data, ax = ax[1])\n",
    "    plt.setp(ax[1].get_xticklabels(), rotation=90)\n",
    "    ax[1].set_title(\"distance VS fraud\")"
   ]
  },
  {
   "cell_type": "code",
   "execution_count": 23,
   "metadata": {},
   "outputs": [
    {
     "data": {
      "image/png": "[encoded data removed]",
      "text/plain": [
       "<Figure size 1440x360 with 2 Axes>"
      ]
     },
     "metadata": {
      "needs_background": "light"
     },
     "output_type": "display_data"
    },
    {
     "data": {
      "image/png": "[encoded data removed]",
      "text/plain": [
       "<Figure size 1440x360 with 2 Axes>"
      ]
     },
     "metadata": {
      "needs_background": "light"
     },
     "output_type": "display_data"
    },
    {
     "data": {
      "image/png": "[encoded data removed]",
      "text/plain": [
       "<Figure size 1440x360 with 2 Axes>"
      ]
     },
     "metadata": {
      "needs_background": "light"
     },
     "output_type": "display_data"
    }
   ],
   "source": [
    "fraud_check(1280981422329509)"
   ]
  },
  {
   "cell_type": "markdown",
   "metadata": {},
   "source": [
    "# Conclusion: \n",
    "For the user with card number 1280981422329509 (case will be different for different user):\n",
    "- Transaction time information, including weekday, date of a month, or exact time of a day, would not necessary related to wheather it is a fraud transaction\n",
    "- When the tranaction amount to credit limit is as large as 14, the tranaction need to be investigage\n",
    "- A transaction with high amount to remaining credit ratio may also need investigation\n",
    "- Long distance to its canter place will very likely to be identified as a fraud transaction"
   ]
  },
  {
   "cell_type": "code",
   "execution_count": null,
   "metadata": {},
   "outputs": [],
   "source": []
  }
 ],
 "metadata": {
  "kernelspec": {
   "display_name": "Python 2",
   "language": "python",
   "name": "python2"
  },
  "language_info": {
   "codemirror_mode": {
    "name": "ipython",
    "version": 2
   },
   "file_extension": ".py",
   "mimetype": "text/x-python",
   "name": "python",
   "nbconvert_exporter": "python",
   "pygments_lexer": "ipython2",
   "version": "2.7.15"
  }
 },
 "nbformat": 4,
 "nbformat_minor": 2
}
